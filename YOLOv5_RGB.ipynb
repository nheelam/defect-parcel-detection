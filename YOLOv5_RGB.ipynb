{
  "cells": [
    {
      "cell_type": "code",
      "execution_count": null,
      "metadata": {
        "colab": {
          "base_uri": "https://localhost:8080/"
        },
        "id": "wi4s9AV_iqdU",
        "outputId": "a24cc3e7-4e03-4909-9d3e-14e204087558",
        "collapsed": true
      },
      "outputs": [
        {
          "output_type": "stream",
          "name": "stdout",
          "text": [
            "Sun Oct  2 06:40:12 2022       \n",
            "+-----------------------------------------------------------------------------+\n",
            "| NVIDIA-SMI 460.32.03    Driver Version: 460.32.03    CUDA Version: 11.2     |\n",
            "|-------------------------------+----------------------+----------------------+\n",
            "| GPU  Name        Persistence-M| Bus-Id        Disp.A | Volatile Uncorr. ECC |\n",
            "| Fan  Temp  Perf  Pwr:Usage/Cap|         Memory-Usage | GPU-Util  Compute M. |\n",
            "|                               |                      |               MIG M. |\n",
            "|===============================+======================+======================|\n",
            "|   0  Tesla T4            Off  | 00000000:00:04.0 Off |                    0 |\n",
            "| N/A   57C    P0    27W /  70W |   1168MiB / 15109MiB |      0%      Default |\n",
            "|                               |                      |                  N/A |\n",
            "+-------------------------------+----------------------+----------------------+\n",
            "                                                                               \n",
            "+-----------------------------------------------------------------------------+\n",
            "| Processes:                                                                  |\n",
            "|  GPU   GI   CI        PID   Type   Process name                  GPU Memory |\n",
            "|        ID   ID                                                   Usage      |\n",
            "|=============================================================================|\n",
            "+-----------------------------------------------------------------------------+\n"
          ]
        }
      ],
      "source": [
        "#check gpu\n",
        "!nvidia-smi"
      ]
    },
    {
      "cell_type": "code",
      "execution_count": null,
      "metadata": {
        "colab": {
          "base_uri": "https://localhost:8080/"
        },
        "id": "ZJ0nHRPuVc7j",
        "outputId": "98122244-aabb-4521-b0f3-11f9c442159c"
      },
      "outputs": [
        {
          "output_type": "stream",
          "name": "stdout",
          "text": [
            "Cloning into 'yolov5'...\n",
            "remote: Enumerating objects: 13092, done.\u001b[K\n",
            "remote: Counting objects: 100% (248/248), done.\u001b[K\n",
            "remote: Compressing objects: 100% (115/115), done.\u001b[K\n",
            "remote: Total 13092 (delta 168), reused 196 (delta 133), pack-reused 12844\u001b[K\n",
            "Receiving objects: 100% (13092/13092), 13.08 MiB | 11.30 MiB/s, done.\n",
            "Resolving deltas: 100% (9001/9001), done.\n",
            "/content/yolov5\n",
            "HEAD is now at fbe67e4 Fix `OMP_NUM_THREADS=1` for macOS (#8624)\n"
          ]
        }
      ],
      "source": [
        "# clone YOLOv5 repository\n",
        "!git clone https://github.com/ultralytics/yolov5  # clone repo\n",
        "%cd yolov5\n",
        "!git reset --hard fbe67e465375231474a2ad80a4389efc77ecff99 #code changes in github is undone"
      ]
    },
    {
      "cell_type": "code",
      "execution_count": null,
      "metadata": {
        "colab": {
          "base_uri": "https://localhost:8080/"
        },
        "id": "zzw-PJjfOBBE",
        "outputId": "9932889c-3af1-4207-f257-ee47bdb9c09b"
      },
      "outputs": [
        {
          "output_type": "stream",
          "name": "stdout",
          "text": [
            "\u001b[?25l\r\u001b[K     |▏                               | 10 kB 27.7 MB/s eta 0:00:01\r\u001b[K     |▍                               | 20 kB 35.1 MB/s eta 0:00:01\r\u001b[K     |▋                               | 30 kB 43.5 MB/s eta 0:00:01\r\u001b[K     |▉                               | 40 kB 47.5 MB/s eta 0:00:01\r\u001b[K     |█                               | 51 kB 29.3 MB/s eta 0:00:01\r\u001b[K     |█▎                              | 61 kB 32.8 MB/s eta 0:00:01\r\u001b[K     |█▌                              | 71 kB 31.5 MB/s eta 0:00:01\r\u001b[K     |█▊                              | 81 kB 32.7 MB/s eta 0:00:01\r\u001b[K     |█▉                              | 92 kB 35.2 MB/s eta 0:00:01\r\u001b[K     |██                              | 102 kB 37.2 MB/s eta 0:00:01\r\u001b[K     |██▎                             | 112 kB 37.2 MB/s eta 0:00:01\r\u001b[K     |██▌                             | 122 kB 37.2 MB/s eta 0:00:01\r\u001b[K     |██▊                             | 133 kB 37.2 MB/s eta 0:00:01\r\u001b[K     |███                             | 143 kB 37.2 MB/s eta 0:00:01\r\u001b[K     |███▏                            | 153 kB 37.2 MB/s eta 0:00:01\r\u001b[K     |███▍                            | 163 kB 37.2 MB/s eta 0:00:01\r\u001b[K     |███▌                            | 174 kB 37.2 MB/s eta 0:00:01\r\u001b[K     |███▊                            | 184 kB 37.2 MB/s eta 0:00:01\r\u001b[K     |████                            | 194 kB 37.2 MB/s eta 0:00:01\r\u001b[K     |████▏                           | 204 kB 37.2 MB/s eta 0:00:01\r\u001b[K     |████▍                           | 215 kB 37.2 MB/s eta 0:00:01\r\u001b[K     |████▋                           | 225 kB 37.2 MB/s eta 0:00:01\r\u001b[K     |████▉                           | 235 kB 37.2 MB/s eta 0:00:01\r\u001b[K     |█████                           | 245 kB 37.2 MB/s eta 0:00:01\r\u001b[K     |█████▎                          | 256 kB 37.2 MB/s eta 0:00:01\r\u001b[K     |█████▍                          | 266 kB 37.2 MB/s eta 0:00:01\r\u001b[K     |█████▋                          | 276 kB 37.2 MB/s eta 0:00:01\r\u001b[K     |█████▉                          | 286 kB 37.2 MB/s eta 0:00:01\r\u001b[K     |██████                          | 296 kB 37.2 MB/s eta 0:00:01\r\u001b[K     |██████▎                         | 307 kB 37.2 MB/s eta 0:00:01\r\u001b[K     |██████▌                         | 317 kB 37.2 MB/s eta 0:00:01\r\u001b[K     |██████▊                         | 327 kB 37.2 MB/s eta 0:00:01\r\u001b[K     |███████                         | 337 kB 37.2 MB/s eta 0:00:01\r\u001b[K     |███████                         | 348 kB 37.2 MB/s eta 0:00:01\r\u001b[K     |███████▎                        | 358 kB 37.2 MB/s eta 0:00:01\r\u001b[K     |███████▌                        | 368 kB 37.2 MB/s eta 0:00:01\r\u001b[K     |███████▊                        | 378 kB 37.2 MB/s eta 0:00:01\r\u001b[K     |████████                        | 389 kB 37.2 MB/s eta 0:00:01\r\u001b[K     |████████▏                       | 399 kB 37.2 MB/s eta 0:00:01\r\u001b[K     |████████▍                       | 409 kB 37.2 MB/s eta 0:00:01\r\u001b[K     |████████▋                       | 419 kB 37.2 MB/s eta 0:00:01\r\u001b[K     |████████▉                       | 430 kB 37.2 MB/s eta 0:00:01\r\u001b[K     |█████████                       | 440 kB 37.2 MB/s eta 0:00:01\r\u001b[K     |█████████▏                      | 450 kB 37.2 MB/s eta 0:00:01\r\u001b[K     |█████████▍                      | 460 kB 37.2 MB/s eta 0:00:01\r\u001b[K     |█████████▋                      | 471 kB 37.2 MB/s eta 0:00:01\r\u001b[K     |█████████▉                      | 481 kB 37.2 MB/s eta 0:00:01\r\u001b[K     |██████████                      | 491 kB 37.2 MB/s eta 0:00:01\r\u001b[K     |██████████▎                     | 501 kB 37.2 MB/s eta 0:00:01\r\u001b[K     |██████████▌                     | 512 kB 37.2 MB/s eta 0:00:01\r\u001b[K     |██████████▋                     | 522 kB 37.2 MB/s eta 0:00:01\r\u001b[K     |██████████▉                     | 532 kB 37.2 MB/s eta 0:00:01\r\u001b[K     |███████████                     | 542 kB 37.2 MB/s eta 0:00:01\r\u001b[K     |███████████▎                    | 552 kB 37.2 MB/s eta 0:00:01\r\u001b[K     |███████████▌                    | 563 kB 37.2 MB/s eta 0:00:01\r\u001b[K     |███████████▊                    | 573 kB 37.2 MB/s eta 0:00:01\r\u001b[K     |████████████                    | 583 kB 37.2 MB/s eta 0:00:01\r\u001b[K     |████████████▏                   | 593 kB 37.2 MB/s eta 0:00:01\r\u001b[K     |████████████▍                   | 604 kB 37.2 MB/s eta 0:00:01\r\u001b[K     |████████████▌                   | 614 kB 37.2 MB/s eta 0:00:01\r\u001b[K     |████████████▊                   | 624 kB 37.2 MB/s eta 0:00:01\r\u001b[K     |█████████████                   | 634 kB 37.2 MB/s eta 0:00:01\r\u001b[K     |█████████████▏                  | 645 kB 37.2 MB/s eta 0:00:01\r\u001b[K     |█████████████▍                  | 655 kB 37.2 MB/s eta 0:00:01\r\u001b[K     |█████████████▋                  | 665 kB 37.2 MB/s eta 0:00:01\r\u001b[K     |█████████████▉                  | 675 kB 37.2 MB/s eta 0:00:01\r\u001b[K     |██████████████                  | 686 kB 37.2 MB/s eta 0:00:01\r\u001b[K     |██████████████▏                 | 696 kB 37.2 MB/s eta 0:00:01\r\u001b[K     |██████████████▍                 | 706 kB 37.2 MB/s eta 0:00:01\r\u001b[K     |██████████████▋                 | 716 kB 37.2 MB/s eta 0:00:01\r\u001b[K     |██████████████▉                 | 727 kB 37.2 MB/s eta 0:00:01\r\u001b[K     |███████████████                 | 737 kB 37.2 MB/s eta 0:00:01\r\u001b[K     |███████████████▎                | 747 kB 37.2 MB/s eta 0:00:01\r\u001b[K     |███████████████▌                | 757 kB 37.2 MB/s eta 0:00:01\r\u001b[K     |███████████████▊                | 768 kB 37.2 MB/s eta 0:00:01\r\u001b[K     |████████████████                | 778 kB 37.2 MB/s eta 0:00:01\r\u001b[K     |████████████████                | 788 kB 37.2 MB/s eta 0:00:01\r\u001b[K     |████████████████▎               | 798 kB 37.2 MB/s eta 0:00:01\r\u001b[K     |████████████████▌               | 808 kB 37.2 MB/s eta 0:00:01\r\u001b[K     |████████████████▊               | 819 kB 37.2 MB/s eta 0:00:01\r\u001b[K     |█████████████████               | 829 kB 37.2 MB/s eta 0:00:01\r\u001b[K     |█████████████████▏              | 839 kB 37.2 MB/s eta 0:00:01\r\u001b[K     |█████████████████▍              | 849 kB 37.2 MB/s eta 0:00:01\r\u001b[K     |█████████████████▋              | 860 kB 37.2 MB/s eta 0:00:01\r\u001b[K     |█████████████████▊              | 870 kB 37.2 MB/s eta 0:00:01\r\u001b[K     |██████████████████              | 880 kB 37.2 MB/s eta 0:00:01\r\u001b[K     |██████████████████▏             | 890 kB 37.2 MB/s eta 0:00:01\r\u001b[K     |██████████████████▍             | 901 kB 37.2 MB/s eta 0:00:01\r\u001b[K     |██████████████████▋             | 911 kB 37.2 MB/s eta 0:00:01\r\u001b[K     |██████████████████▉             | 921 kB 37.2 MB/s eta 0:00:01\r\u001b[K     |███████████████████             | 931 kB 37.2 MB/s eta 0:00:01\r\u001b[K     |███████████████████▎            | 942 kB 37.2 MB/s eta 0:00:01\r\u001b[K     |███████████████████▌            | 952 kB 37.2 MB/s eta 0:00:01\r\u001b[K     |███████████████████▋            | 962 kB 37.2 MB/s eta 0:00:01\r\u001b[K     |███████████████████▉            | 972 kB 37.2 MB/s eta 0:00:01\r\u001b[K     |████████████████████            | 983 kB 37.2 MB/s eta 0:00:01\r\u001b[K     |████████████████████▎           | 993 kB 37.2 MB/s eta 0:00:01\r\u001b[K     |████████████████████▌           | 1.0 MB 37.2 MB/s eta 0:00:01\r\u001b[K     |████████████████████▊           | 1.0 MB 37.2 MB/s eta 0:00:01\r\u001b[K     |█████████████████████           | 1.0 MB 37.2 MB/s eta 0:00:01\r\u001b[K     |█████████████████████▏          | 1.0 MB 37.2 MB/s eta 0:00:01\r\u001b[K     |█████████████████████▎          | 1.0 MB 37.2 MB/s eta 0:00:01\r\u001b[K     |█████████████████████▌          | 1.1 MB 37.2 MB/s eta 0:00:01\r\u001b[K     |█████████████████████▊          | 1.1 MB 37.2 MB/s eta 0:00:01\r\u001b[K     |██████████████████████          | 1.1 MB 37.2 MB/s eta 0:00:01\r\u001b[K     |██████████████████████▏         | 1.1 MB 37.2 MB/s eta 0:00:01\r\u001b[K     |██████████████████████▍         | 1.1 MB 37.2 MB/s eta 0:00:01\r\u001b[K     |██████████████████████▋         | 1.1 MB 37.2 MB/s eta 0:00:01\r\u001b[K     |██████████████████████▉         | 1.1 MB 37.2 MB/s eta 0:00:01\r\u001b[K     |███████████████████████         | 1.1 MB 37.2 MB/s eta 0:00:01\r\u001b[K     |███████████████████████▏        | 1.1 MB 37.2 MB/s eta 0:00:01\r\u001b[K     |███████████████████████▍        | 1.1 MB 37.2 MB/s eta 0:00:01\r\u001b[K     |███████████████████████▋        | 1.2 MB 37.2 MB/s eta 0:00:01\r\u001b[K     |███████████████████████▉        | 1.2 MB 37.2 MB/s eta 0:00:01\r\u001b[K     |████████████████████████        | 1.2 MB 37.2 MB/s eta 0:00:01\r\u001b[K     |████████████████████████▎       | 1.2 MB 37.2 MB/s eta 0:00:01\r\u001b[K     |████████████████████████▌       | 1.2 MB 37.2 MB/s eta 0:00:01\r\u001b[K     |████████████████████████▊       | 1.2 MB 37.2 MB/s eta 0:00:01\r\u001b[K     |████████████████████████▉       | 1.2 MB 37.2 MB/s eta 0:00:01\r\u001b[K     |█████████████████████████       | 1.2 MB 37.2 MB/s eta 0:00:01\r\u001b[K     |█████████████████████████▎      | 1.2 MB 37.2 MB/s eta 0:00:01\r\u001b[K     |█████████████████████████▌      | 1.2 MB 37.2 MB/s eta 0:00:01\r\u001b[K     |█████████████████████████▊      | 1.3 MB 37.2 MB/s eta 0:00:01\r\u001b[K     |██████████████████████████      | 1.3 MB 37.2 MB/s eta 0:00:01\r\u001b[K     |██████████████████████████▏     | 1.3 MB 37.2 MB/s eta 0:00:01\r\u001b[K     |██████████████████████████▍     | 1.3 MB 37.2 MB/s eta 0:00:01\r\u001b[K     |██████████████████████████▌     | 1.3 MB 37.2 MB/s eta 0:00:01\r\u001b[K     |██████████████████████████▊     | 1.3 MB 37.2 MB/s eta 0:00:01\r\u001b[K     |███████████████████████████     | 1.3 MB 37.2 MB/s eta 0:00:01\r\u001b[K     |███████████████████████████▏    | 1.3 MB 37.2 MB/s eta 0:00:01\r\u001b[K     |███████████████████████████▍    | 1.3 MB 37.2 MB/s eta 0:00:01\r\u001b[K     |███████████████████████████▋    | 1.4 MB 37.2 MB/s eta 0:00:01\r\u001b[K     |███████████████████████████▉    | 1.4 MB 37.2 MB/s eta 0:00:01\r\u001b[K     |████████████████████████████    | 1.4 MB 37.2 MB/s eta 0:00:01\r\u001b[K     |████████████████████████████▎   | 1.4 MB 37.2 MB/s eta 0:00:01\r\u001b[K     |████████████████████████████▍   | 1.4 MB 37.2 MB/s eta 0:00:01\r\u001b[K     |████████████████████████████▋   | 1.4 MB 37.2 MB/s eta 0:00:01\r\u001b[K     |████████████████████████████▉   | 1.4 MB 37.2 MB/s eta 0:00:01\r\u001b[K     |█████████████████████████████   | 1.4 MB 37.2 MB/s eta 0:00:01\r\u001b[K     |█████████████████████████████▎  | 1.4 MB 37.2 MB/s eta 0:00:01\r\u001b[K     |█████████████████████████████▌  | 1.4 MB 37.2 MB/s eta 0:00:01\r\u001b[K     |█████████████████████████████▊  | 1.5 MB 37.2 MB/s eta 0:00:01\r\u001b[K     |██████████████████████████████  | 1.5 MB 37.2 MB/s eta 0:00:01\r\u001b[K     |██████████████████████████████  | 1.5 MB 37.2 MB/s eta 0:00:01\r\u001b[K     |██████████████████████████████▎ | 1.5 MB 37.2 MB/s eta 0:00:01\r\u001b[K     |██████████████████████████████▌ | 1.5 MB 37.2 MB/s eta 0:00:01\r\u001b[K     |██████████████████████████████▊ | 1.5 MB 37.2 MB/s eta 0:00:01\r\u001b[K     |███████████████████████████████ | 1.5 MB 37.2 MB/s eta 0:00:01\r\u001b[K     |███████████████████████████████▏| 1.5 MB 37.2 MB/s eta 0:00:01\r\u001b[K     |███████████████████████████████▍| 1.5 MB 37.2 MB/s eta 0:00:01\r\u001b[K     |███████████████████████████████▋| 1.5 MB 37.2 MB/s eta 0:00:01\r\u001b[K     |███████████████████████████████▉| 1.6 MB 37.2 MB/s eta 0:00:01\r\u001b[K     |████████████████████████████████| 1.6 MB 37.2 MB/s eta 0:00:01\r\u001b[K     |████████████████████████████████| 1.6 MB 37.2 MB/s \n",
            "\u001b[?25hSetup complete. Using torch 1.12.1+cu113 _CudaDeviceProperties(name='Tesla T4', major=7, minor=5, total_memory=15109MB, multi_processor_count=40)\n"
          ]
        }
      ],
      "source": [
        "# install dependencies as necessary\n",
        "!pip install -qr requirements.txt  # install dependencies (ignore errors)\n",
        "import torch\n",
        "\n",
        "from IPython.display import Image, clear_output  # to display images\n",
        "from utils.downloads import attempt_download  # to download models/datasets\n",
        "\n",
        "# clear_output()\n",
        "print('Setup complete. Using torch %s %s' % (torch.__version__, torch.cuda.get_device_properties(0) if torch.cuda.is_available() else 'CPU'))"
      ]
    },
    {
      "cell_type": "code",
      "execution_count": null,
      "metadata": {
        "colab": {
          "base_uri": "https://localhost:8080/"
        },
        "id": "haCiId5oO3oI",
        "outputId": "2f8e3b7c-f9a0-4e89-83a0-c169c21dd4f6"
      },
      "outputs": [
        {
          "output_type": "stream",
          "name": "stdout",
          "text": [
            "\u001b[K     |████████████████████████████████| 145 kB 43.7 MB/s \n",
            "\u001b[K     |████████████████████████████████| 178 kB 59.9 MB/s \n",
            "\u001b[K     |████████████████████████████████| 1.1 MB 58.7 MB/s \n",
            "\u001b[K     |████████████████████████████████| 67 kB 6.9 MB/s \n",
            "\u001b[K     |████████████████████████████████| 54 kB 3.2 MB/s \n",
            "\u001b[K     |████████████████████████████████| 138 kB 75.6 MB/s \n",
            "\u001b[K     |████████████████████████████████| 62 kB 1.3 MB/s \n",
            "\u001b[?25h  Building wheel for roboflow (setup.py) ... \u001b[?25l\u001b[?25hdone\n",
            "  Building wheel for wget (setup.py) ... \u001b[?25l\u001b[?25hdone\n",
            "upload and label your dataset, and get an API KEY here: https://app.roboflow.com/?model=yolov5&ref=roboflow-yolov5\n"
          ]
        }
      ],
      "source": [
        "#download code from from Roboflow\n",
        "!pip install -q roboflow\n",
        "from roboflow import Roboflow\n",
        "rf = Roboflow(model_format=\"yolov5\", notebook=\"roboflow-yolov5\")"
      ]
    },
    {
      "cell_type": "code",
      "execution_count": null,
      "metadata": {
        "colab": {
          "base_uri": "https://localhost:8080/"
        },
        "id": "vlZc6VkwQ-4w",
        "outputId": "73a4cd25-6910-4bef-8dab-5ae19063ebbb"
      },
      "outputs": [
        {
          "output_type": "stream",
          "name": "stdout",
          "text": [
            "/content/yolov5\n",
            "loading Roboflow workspace...\n",
            "loading Roboflow project...\n",
            "Downloading Dataset Version Zip in Parcel-3 to yolov5pytorch: 100% [184480094 / 184480094] bytes\n"
          ]
        },
        {
          "output_type": "stream",
          "name": "stderr",
          "text": [
            "Extracting Dataset Version Zip to Parcel-3 in yolov5pytorch:: 100%|██████████| 2910/2910 [00:01<00:00, 2197.93it/s]\n"
          ]
        }
      ],
      "source": [
        "%cd /content/yolov5\n",
        "\n",
        "rf = Roboflow(api_key=\"sR7YxL7yp8QQbXbsp4pl\")\n",
        "project = rf.workspace(\"ip-ass-fqxdg\").project(\"parcel-ilzol\")\n",
        "dataset = project.version(3).download(\"yolov5\")"
      ]
    },
    {
      "cell_type": "code",
      "execution_count": null,
      "metadata": {
        "colab": {
          "base_uri": "https://localhost:8080/"
        },
        "id": "1R8bIKSuRWQw",
        "outputId": "b890505a-7f3e-415f-e587-687ef964742e"
      },
      "outputs": [
        {
          "output_type": "stream",
          "name": "stdout",
          "text": [
            "names:\n",
            "- defect-parcel\n",
            "- good-parcel\n",
            "nc: 2\n",
            "train: Parcel-3/train/images\n",
            "val: Parcel-3/valid/images\n"
          ]
        }
      ],
      "source": [
        "%cat {dataset.location}/data.yaml"
      ]
    },
    {
      "cell_type": "markdown",
      "metadata": {
        "id": "UwJx-2NHsYxT"
      },
      "source": [
        "# Define Model Configuration and Architecture\n",
        "\n",
        "We will write a yaml script that defines the parameters for our model like the number of classes, anchors, and each layer."
      ]
    },
    {
      "cell_type": "code",
      "execution_count": null,
      "metadata": {
        "id": "OWJ9YAVsS0Nx"
      },
      "outputs": [],
      "source": [
        "# define number of classes based on YAML\n",
        "import yaml\n",
        "with open(dataset.location + \"/data.yaml\", 'r') as stream:\n",
        "    num_classes = str(yaml.safe_load(stream)['nc'])"
      ]
    },
    {
      "cell_type": "code",
      "execution_count": null,
      "metadata": {
        "colab": {
          "base_uri": "https://localhost:8080/"
        },
        "id": "393hkoaYTDQZ",
        "outputId": "58c68e32-6f03-4532-f36a-e339e75a2f9f"
      },
      "outputs": [
        {
          "output_type": "stream",
          "name": "stdout",
          "text": [
            "# YOLOv5 🚀 by Ultralytics, GPL-3.0 license\n",
            "\n",
            "# Parameters\n",
            "nc: 80  # number of classes\n",
            "depth_multiple: 0.33  # model depth multiple\n",
            "width_multiple: 0.50  # layer channel multiple\n",
            "anchors:\n",
            "  - [10,13, 16,30, 33,23]  # P3/8\n",
            "  - [30,61, 62,45, 59,119]  # P4/16\n",
            "  - [116,90, 156,198, 373,326]  # P5/32\n",
            "\n",
            "# YOLOv5 v6.0 backbone\n",
            "backbone:\n",
            "  # [from, number, module, args]\n",
            "  [[-1, 1, Conv, [64, 6, 2, 2]],  # 0-P1/2\n",
            "   [-1, 1, Conv, [128, 3, 2]],  # 1-P2/4\n",
            "   [-1, 3, C3, [128]],\n",
            "   [-1, 1, Conv, [256, 3, 2]],  # 3-P3/8\n",
            "   [-1, 6, C3, [256]],\n",
            "   [-1, 1, Conv, [512, 3, 2]],  # 5-P4/16\n",
            "   [-1, 9, C3, [512]],\n",
            "   [-1, 1, Conv, [1024, 3, 2]],  # 7-P5/32\n",
            "   [-1, 3, C3, [1024]],\n",
            "   [-1, 1, SPPF, [1024, 5]],  # 9\n",
            "  ]\n",
            "\n",
            "# YOLOv5 v6.0 head\n",
            "head:\n",
            "  [[-1, 1, Conv, [512, 1, 1]],\n",
            "   [-1, 1, nn.Upsample, [None, 2, 'nearest']],\n",
            "   [[-1, 6], 1, Concat, [1]],  # cat backbone P4\n",
            "   [-1, 3, C3, [512, False]],  # 13\n",
            "\n",
            "   [-1, 1, Conv, [256, 1, 1]],\n",
            "   [-1, 1, nn.Upsample, [None, 2, 'nearest']],\n",
            "   [[-1, 4], 1, Concat, [1]],  # cat backbone P3\n",
            "   [-1, 3, C3, [256, False]],  # 17 (P3/8-small)\n",
            "\n",
            "   [-1, 1, Conv, [256, 3, 2]],\n",
            "   [[-1, 14], 1, Concat, [1]],  # cat head P4\n",
            "   [-1, 3, C3, [512, False]],  # 20 (P4/16-medium)\n",
            "\n",
            "   [-1, 1, Conv, [512, 3, 2]],\n",
            "   [[-1, 10], 1, Concat, [1]],  # cat head P5\n",
            "   [-1, 3, C3, [1024, False]],  # 23 (P5/32-large)\n",
            "\n",
            "   [[17, 20, 23], 1, Detect, [nc, anchors]],  # Detect(P3, P4, P5)\n",
            "  ]\n"
          ]
        }
      ],
      "source": [
        "%cat /content/yolov5/models/yolov5s.yaml"
      ]
    },
    {
      "cell_type": "code",
      "execution_count": null,
      "metadata": {
        "id": "SiLQkUhqTEny"
      },
      "outputs": [],
      "source": [
        "#customize iPython writefile so we can write variables\n",
        "from IPython.core.magic import register_line_cell_magic\n",
        "\n",
        "@register_line_cell_magic\n",
        "def writetemplate(line, cell):\n",
        "    with open(line, 'w') as f:\n",
        "        f.write(cell.format(**globals()))"
      ]
    },
    {
      "cell_type": "code",
      "execution_count": null,
      "metadata": {
        "id": "bv7URH8JTIIh"
      },
      "outputs": [],
      "source": [
        "%%writetemplate /content/yolov5/models/custom_yolov5s.yaml\n",
        "\n",
        "# parameters\n",
        "nc: {num_classes}  # number of classes\n",
        "depth_multiple: 0.33  # model depth multiple\n",
        "width_multiple: 0.50  # layer channel multiple\n",
        "\n",
        "# anchors\n",
        "anchors:\n",
        "  - [10,13, 16,30, 33,23]  # P3/8\n",
        "  - [30,61, 62,45, 59,119]  # P4/16\n",
        "  - [116,90, 156,198, 373,326]  # P5/32\n",
        "\n",
        "# YOLOv5 backbone\n",
        "backbone:\n",
        "  # [from, number, module, args]\n",
        "  [[-1, 1, Focus, [64, 3]],  # 0-P1/2\n",
        "   [-1, 1, Conv, [128, 3, 2]],  # 1-P2/4\n",
        "   [-1, 3, BottleneckCSP, [128]],\n",
        "   [-1, 1, Conv, [256, 3, 2]],  # 3-P3/8\n",
        "   [-1, 9, BottleneckCSP, [256]],\n",
        "   [-1, 1, Conv, [512, 3, 2]],  # 5-P4/16\n",
        "   [-1, 9, BottleneckCSP, [512]],\n",
        "   [-1, 1, Conv, [1024, 3, 2]],  # 7-P5/32\n",
        "   [-1, 1, SPP, [1024, [5, 9, 13]]],\n",
        "   [-1, 3, BottleneckCSP, [1024, False]],  # 9\n",
        "  ]\n",
        "\n",
        "# YOLOv5 head\n",
        "head:\n",
        "  [[-1, 1, Conv, [512, 1, 1]],\n",
        "   [-1, 1, nn.Upsample, [None, 2, 'nearest']],\n",
        "   [[-1, 6], 1, Concat, [1]],  # cat backbone P4\n",
        "   [-1, 3, BottleneckCSP, [512, False]],  # 13\n",
        "\n",
        "   [-1, 1, Conv, [256, 1, 1]],\n",
        "   [-1, 1, nn.Upsample, [None, 2, 'nearest']],\n",
        "   [[-1, 4], 1, Concat, [1]],  # cat backbone P3\n",
        "   [-1, 3, BottleneckCSP, [256, False]],  # 17 (P3/8-small)\n",
        "\n",
        "   [-1, 1, Conv, [256, 3, 2]],\n",
        "   [[-1, 14], 1, Concat, [1]],  # cat head P4\n",
        "   [-1, 3, BottleneckCSP, [512, False]],  # 20 (P4/16-medium)\n",
        "\n",
        "   [-1, 1, Conv, [512, 3, 2]],\n",
        "   [[-1, 10], 1, Concat, [1]],  # cat head P5\n",
        "   [-1, 3, BottleneckCSP, [1024, False]],  # 23 (P5/32-large)\n",
        "\n",
        "   [[17, 20, 23], 1, Detect, [nc, anchors]],  # Detect(P3, P4, P5)\n",
        "  ]"
      ]
    },
    {
      "cell_type": "markdown",
      "metadata": {
        "id": "MQX06RtdTdZW"
      },
      "source": [
        "# Train Custom YOLOv5 Detector\n"
      ]
    },
    {
      "cell_type": "code",
      "execution_count": null,
      "metadata": {
        "colab": {
          "base_uri": "https://localhost:8080/"
        },
        "id": "aZcJOKHnTJbp",
        "outputId": "37449af2-62a0-4054-d747-1100c249ca1c"
      },
      "outputs": [
        {
          "output_type": "stream",
          "name": "stdout",
          "text": [
            "/content/yolov5\n",
            "\u001b[34m\u001b[1mtrain: \u001b[0mweights=yolov5s.pt, cfg=./models/custom_yolov5s.yaml, data=/content/yolov5/Parcel-3/data.yaml, hyp=data/hyps/hyp.scratch-low.yaml, epochs=20, batch_size=16, imgsz=416, rect=False, resume=False, nosave=False, noval=False, noautoanchor=False, noplots=False, evolve=None, bucket=, cache=ram, image_weights=False, device=, multi_scale=False, single_cls=False, optimizer=SGD, sync_bn=False, workers=8, project=runs/train, name=yolov5s_results, exist_ok=False, quad=False, cos_lr=False, label_smoothing=0.0, patience=100, freeze=[0], save_period=-1, seed=0, local_rank=-1, entity=None, upload_dataset=False, bbox_interval=-1, artifact_alias=latest\n",
            "\u001b[34m\u001b[1mgithub: \u001b[0m⚠️ YOLOv5 is out of date by 277 commits. Use `git pull` or `git clone https://github.com/ultralytics/yolov5` to update.\n",
            "YOLOv5 🚀 v6.1-306-gfbe67e4 Python-3.7.14 torch-1.12.1+cu113 CUDA:0 (Tesla T4, 15110MiB)\n",
            "\n",
            "\u001b[34m\u001b[1mhyperparameters: \u001b[0mlr0=0.01, lrf=0.01, momentum=0.937, weight_decay=0.0005, warmup_epochs=3.0, warmup_momentum=0.8, warmup_bias_lr=0.1, box=0.05, cls=0.5, cls_pw=1.0, obj=1.0, obj_pw=1.0, iou_t=0.2, anchor_t=4.0, fl_gamma=0.0, hsv_h=0.015, hsv_s=0.7, hsv_v=0.4, degrees=0.0, translate=0.1, scale=0.5, shear=0.0, perspective=0.0, flipud=0.0, fliplr=0.5, mosaic=1.0, mixup=0.0, copy_paste=0.0\n",
            "\u001b[34m\u001b[1mWeights & Biases: \u001b[0mrun 'pip install wandb' to automatically track and visualize YOLOv5 🚀 runs (RECOMMENDED)\n",
            "\u001b[34m\u001b[1mTensorBoard: \u001b[0mStart with 'tensorboard --logdir runs/train', view at http://localhost:6006/\n",
            "Downloading https://ultralytics.com/assets/Arial.ttf to /root/.config/Ultralytics/Arial.ttf...\n",
            "100% 755k/755k [00:00<00:00, 152MB/s]\n",
            "Downloading https://github.com/ultralytics/yolov5/releases/download/v6.1/yolov5s.pt to yolov5s.pt...\n",
            "100% 14.1M/14.1M [00:00<00:00, 16.3MB/s]\n",
            "\n",
            "\n",
            "                 from  n    params  module                                  arguments                     \n",
            "  0                -1  1      3520  models.common.Focus                     [3, 32, 3]                    \n",
            "  1                -1  1     18560  models.common.Conv                      [32, 64, 3, 2]                \n",
            "  2                -1  1     19904  models.common.BottleneckCSP             [64, 64, 1]                   \n",
            "  3                -1  1     73984  models.common.Conv                      [64, 128, 3, 2]               \n",
            "  4                -1  3    161152  models.common.BottleneckCSP             [128, 128, 3]                 \n",
            "  5                -1  1    295424  models.common.Conv                      [128, 256, 3, 2]              \n",
            "  6                -1  3    641792  models.common.BottleneckCSP             [256, 256, 3]                 \n",
            "  7                -1  1   1180672  models.common.Conv                      [256, 512, 3, 2]              \n",
            "  8                -1  1    656896  models.common.SPP                       [512, 512, [5, 9, 13]]        \n",
            "  9                -1  1   1248768  models.common.BottleneckCSP             [512, 512, 1, False]          \n",
            " 10                -1  1    131584  models.common.Conv                      [512, 256, 1, 1]              \n",
            " 11                -1  1         0  torch.nn.modules.upsampling.Upsample    [None, 2, 'nearest']          \n",
            " 12           [-1, 6]  1         0  models.common.Concat                    [1]                           \n",
            " 13                -1  1    378624  models.common.BottleneckCSP             [512, 256, 1, False]          \n",
            " 14                -1  1     33024  models.common.Conv                      [256, 128, 1, 1]              \n",
            " 15                -1  1         0  torch.nn.modules.upsampling.Upsample    [None, 2, 'nearest']          \n",
            " 16           [-1, 4]  1         0  models.common.Concat                    [1]                           \n",
            " 17                -1  1     95104  models.common.BottleneckCSP             [256, 128, 1, False]          \n",
            " 18                -1  1    147712  models.common.Conv                      [128, 128, 3, 2]              \n",
            " 19          [-1, 14]  1         0  models.common.Concat                    [1]                           \n",
            " 20                -1  1    313088  models.common.BottleneckCSP             [256, 256, 1, False]          \n",
            " 21                -1  1    590336  models.common.Conv                      [256, 256, 3, 2]              \n",
            " 22          [-1, 10]  1         0  models.common.Concat                    [1]                           \n",
            " 23                -1  1   1248768  models.common.BottleneckCSP             [512, 512, 1, False]          \n",
            " 24      [17, 20, 23]  1     18879  models.yolo.Detect                      [2, [[10, 13, 16, 30, 33, 23], [30, 61, 62, 45, 59, 119], [116, 90, 156, 198, 373, 326]], [128, 256, 512]]\n",
            "custom_YOLOv5s summary: 283 layers, 7257791 parameters, 7257791 gradients, 16.9 GFLOPs\n",
            "\n",
            "Transferred 223/369 items from yolov5s.pt\n",
            "\u001b[34m\u001b[1mAMP: \u001b[0mchecks passed ✅\n",
            "Scaled weight_decay = 0.0005\n",
            "\u001b[34m\u001b[1moptimizer:\u001b[0m SGD with parameter groups 59 weight (no decay), 70 weight, 62 bias\n",
            "\u001b[34m\u001b[1malbumentations: \u001b[0mBlur(always_apply=False, p=0.01, blur_limit=(3, 7)), MedianBlur(always_apply=False, p=0.01, blur_limit=(3, 7)), ToGray(always_apply=False, p=0.01), CLAHE(always_apply=False, p=0.01, clip_limit=(1, 4.0), tile_grid_size=(8, 8))\n",
            "\u001b[34m\u001b[1mtrain: \u001b[0mScanning '/content/yolov5/Parcel-3/train/labels' images and labels...1305 found, 0 missing, 3 empty, 0 corrupt: 100% 1305/1305 [00:01<00:00, 1229.66it/s]\n",
            "\u001b[34m\u001b[1mtrain: \u001b[0mNew cache created: /content/yolov5/Parcel-3/train/labels.cache\n",
            "\u001b[34m\u001b[1mtrain: \u001b[0mCaching images (0.5GB ram): 100% 1305/1305 [00:15<00:00, 84.57it/s]\n",
            "\u001b[34m\u001b[1mval: \u001b[0mScanning '/content/yolov5/Parcel-3/valid/labels' images and labels...50 found, 0 missing, 0 empty, 0 corrupt: 100% 50/50 [00:00<00:00, 762.56it/s]\n",
            "\u001b[34m\u001b[1mval: \u001b[0mNew cache created: /content/yolov5/Parcel-3/valid/labels.cache\n",
            "\u001b[34m\u001b[1mval: \u001b[0mCaching images (0.0GB ram): 100% 50/50 [00:01<00:00, 48.29it/s]\n",
            "Plotting labels to runs/train/yolov5s_results/labels.jpg... \n",
            "\n",
            "\u001b[34m\u001b[1mAutoAnchor: \u001b[0m3.64 anchors/target, 0.999 Best Possible Recall (BPR). Current anchors are a good fit to dataset ✅\n",
            "Image sizes 416 train, 416 val\n",
            "Using 2 dataloader workers\n",
            "Logging results to \u001b[1mruns/train/yolov5s_results\u001b[0m\n",
            "Starting training for 20 epochs...\n",
            "\n",
            "     Epoch   gpu_mem       box       obj       cls    labels  img_size\n",
            "      0/19     1.76G   0.08615   0.02739   0.02673        27       416: 100% 82/82 [00:17<00:00,  4.60it/s]\n",
            "               Class     Images     Labels          P          R     mAP@.5 mAP@.5:.95: 100% 2/2 [00:01<00:00,  1.27it/s]\n",
            "                 all         50         62    0.00841       0.79     0.0171    0.00426\n",
            "\n",
            "     Epoch   gpu_mem       box       obj       cls    labels  img_size\n",
            "      1/19     2.07G   0.06636   0.03119   0.02582        28       416: 100% 82/82 [00:13<00:00,  5.87it/s]\n",
            "               Class     Images     Labels          P          R     mAP@.5 mAP@.5:.95: 100% 2/2 [00:00<00:00,  5.24it/s]\n",
            "                 all         50         62    0.00759      0.903     0.0249    0.00742\n",
            "\n",
            "     Epoch   gpu_mem       box       obj       cls    labels  img_size\n",
            "      2/19     2.07G   0.05744   0.03222   0.02539        25       416: 100% 82/82 [00:13<00:00,  6.15it/s]\n",
            "               Class     Images     Labels          P          R     mAP@.5 mAP@.5:.95: 100% 2/2 [00:00<00:00,  5.34it/s]\n",
            "                 all         50         62       0.13      0.339      0.124     0.0334\n",
            "\n",
            "     Epoch   gpu_mem       box       obj       cls    labels  img_size\n",
            "      3/19     2.07G   0.05253   0.03051   0.02503        33       416: 100% 82/82 [00:13<00:00,  6.09it/s]\n",
            "               Class     Images     Labels          P          R     mAP@.5 mAP@.5:.95: 100% 2/2 [00:00<00:00,  4.98it/s]\n",
            "                 all         50         62     0.0598      0.194     0.0539     0.0141\n",
            "\n",
            "     Epoch   gpu_mem       box       obj       cls    labels  img_size\n",
            "      4/19     2.07G   0.04972   0.02926   0.02531        46       416:  74% 61/82 [00:10<00:03,  6.07it/s]\n",
            "Traceback (most recent call last):\n",
            "  File \"train.py\", line 642, in <module>\n",
            "    main(opt)\n",
            "  File \"train.py\", line 537, in main\n",
            "    train(opt.hyp, opt, device, callbacks)\n",
            "  File \"train.py\", line 351, in train\n",
            "    (f'{epoch}/{epochs - 1}', mem, *mloss, targets.shape[0], imgs.shape[-1]))\n",
            "KeyboardInterrupt\n",
            "CPU times: user 1.57 s, sys: 262 ms, total: 1.84 s\n",
            "Wall time: 1min 54s\n"
          ]
        }
      ],
      "source": [
        "# train yolov5s on custom data for 100 epochs\n",
        "# time its performance\n",
        "%%time\n",
        "%cd /content/yolov5/\n",
        "!python train.py --img 416 --batch 16 --epochs 20 --data {dataset.location}/data.yaml --cfg ./models/custom_yolov5s.yaml --weights 'yolov5s.pt' --name yolov5s_results  --cache"
      ]
    },
    {
      "cell_type": "markdown",
      "metadata": {
        "id": "kJVs_4zEeVbF"
      },
      "source": [
        "# Evaluate Custom YOLOv5 Detector Performance"
      ]
    },
    {
      "cell_type": "code",
      "execution_count": null,
      "metadata": {
        "colab": {
          "base_uri": "https://localhost:8080/",
          "height": 355
        },
        "id": "krzocu8vYdhc",
        "outputId": "61b3366f-34c6-4511-dd48-1480f79ff429"
      },
      "outputs": [
        {
          "output_type": "error",
          "ename": "FileNotFoundError",
          "evalue": "ignored",
          "traceback": [
            "\u001b[0;31m---------------------------------------------------------------------------\u001b[0m",
            "\u001b[0;31mFileNotFoundError\u001b[0m                         Traceback (most recent call last)",
            "\u001b[0;32m<ipython-input-21-3a34394945e9>\u001b[0m in \u001b[0;36m<module>\u001b[0;34m\u001b[0m\n\u001b[1;32m      1\u001b[0m \u001b[0;32mfrom\u001b[0m \u001b[0mutils\u001b[0m\u001b[0;34m.\u001b[0m\u001b[0mplots\u001b[0m \u001b[0;32mimport\u001b[0m \u001b[0mplot_results\u001b[0m  \u001b[0;31m# plot results.txt as results.png\u001b[0m\u001b[0;34m\u001b[0m\u001b[0;34m\u001b[0m\u001b[0m\n\u001b[0;32m----> 2\u001b[0;31m \u001b[0mImage\u001b[0m\u001b[0;34m(\u001b[0m\u001b[0mfilename\u001b[0m\u001b[0;34m=\u001b[0m\u001b[0;34m'/content/yolov5/runs/train/yolov5s_results/results.png'\u001b[0m\u001b[0;34m,\u001b[0m \u001b[0mwidth\u001b[0m\u001b[0;34m=\u001b[0m\u001b[0;36m1000\u001b[0m\u001b[0;34m)\u001b[0m  \u001b[0;31m# view results.png\u001b[0m\u001b[0;34m\u001b[0m\u001b[0;34m\u001b[0m\u001b[0m\n\u001b[0m",
            "\u001b[0;32m/usr/local/lib/python3.7/dist-packages/IPython/core/display.py\u001b[0m in \u001b[0;36m__init__\u001b[0;34m(self, data, url, filename, format, embed, width, height, retina, unconfined, metadata)\u001b[0m\n\u001b[1;32m   1202\u001b[0m         \u001b[0mself\u001b[0m\u001b[0;34m.\u001b[0m\u001b[0munconfined\u001b[0m \u001b[0;34m=\u001b[0m \u001b[0munconfined\u001b[0m\u001b[0;34m\u001b[0m\u001b[0;34m\u001b[0m\u001b[0m\n\u001b[1;32m   1203\u001b[0m         super(Image, self).__init__(data=data, url=url, filename=filename, \n\u001b[0;32m-> 1204\u001b[0;31m                 metadata=metadata)\n\u001b[0m\u001b[1;32m   1205\u001b[0m \u001b[0;34m\u001b[0m\u001b[0m\n\u001b[1;32m   1206\u001b[0m         \u001b[0;32mif\u001b[0m \u001b[0mself\u001b[0m\u001b[0;34m.\u001b[0m\u001b[0mwidth\u001b[0m \u001b[0;32mis\u001b[0m \u001b[0;32mNone\u001b[0m \u001b[0;32mand\u001b[0m \u001b[0mself\u001b[0m\u001b[0;34m.\u001b[0m\u001b[0mmetadata\u001b[0m\u001b[0;34m.\u001b[0m\u001b[0mget\u001b[0m\u001b[0;34m(\u001b[0m\u001b[0;34m'width'\u001b[0m\u001b[0;34m,\u001b[0m \u001b[0;34m{\u001b[0m\u001b[0;34m}\u001b[0m\u001b[0;34m)\u001b[0m\u001b[0;34m:\u001b[0m\u001b[0;34m\u001b[0m\u001b[0;34m\u001b[0m\u001b[0m\n",
            "\u001b[0;32m/usr/local/lib/python3.7/dist-packages/IPython/core/display.py\u001b[0m in \u001b[0;36m__init__\u001b[0;34m(self, data, url, filename, metadata)\u001b[0m\n\u001b[1;32m    625\u001b[0m             \u001b[0mself\u001b[0m\u001b[0;34m.\u001b[0m\u001b[0mmetadata\u001b[0m \u001b[0;34m=\u001b[0m \u001b[0;34m{\u001b[0m\u001b[0;34m}\u001b[0m\u001b[0;34m\u001b[0m\u001b[0;34m\u001b[0m\u001b[0m\n\u001b[1;32m    626\u001b[0m \u001b[0;34m\u001b[0m\u001b[0m\n\u001b[0;32m--> 627\u001b[0;31m         \u001b[0mself\u001b[0m\u001b[0;34m.\u001b[0m\u001b[0mreload\u001b[0m\u001b[0;34m(\u001b[0m\u001b[0;34m)\u001b[0m\u001b[0;34m\u001b[0m\u001b[0;34m\u001b[0m\u001b[0m\n\u001b[0m\u001b[1;32m    628\u001b[0m         \u001b[0mself\u001b[0m\u001b[0;34m.\u001b[0m\u001b[0m_check_data\u001b[0m\u001b[0;34m(\u001b[0m\u001b[0;34m)\u001b[0m\u001b[0;34m\u001b[0m\u001b[0;34m\u001b[0m\u001b[0m\n\u001b[1;32m    629\u001b[0m \u001b[0;34m\u001b[0m\u001b[0m\n",
            "\u001b[0;32m/usr/local/lib/python3.7/dist-packages/IPython/core/display.py\u001b[0m in \u001b[0;36mreload\u001b[0;34m(self)\u001b[0m\n\u001b[1;32m   1233\u001b[0m         \u001b[0;34m\"\"\"Reload the raw data from file or URL.\"\"\"\u001b[0m\u001b[0;34m\u001b[0m\u001b[0;34m\u001b[0m\u001b[0m\n\u001b[1;32m   1234\u001b[0m         \u001b[0;32mif\u001b[0m \u001b[0mself\u001b[0m\u001b[0;34m.\u001b[0m\u001b[0membed\u001b[0m\u001b[0;34m:\u001b[0m\u001b[0;34m\u001b[0m\u001b[0;34m\u001b[0m\u001b[0m\n\u001b[0;32m-> 1235\u001b[0;31m             \u001b[0msuper\u001b[0m\u001b[0;34m(\u001b[0m\u001b[0mImage\u001b[0m\u001b[0;34m,\u001b[0m\u001b[0mself\u001b[0m\u001b[0;34m)\u001b[0m\u001b[0;34m.\u001b[0m\u001b[0mreload\u001b[0m\u001b[0;34m(\u001b[0m\u001b[0;34m)\u001b[0m\u001b[0;34m\u001b[0m\u001b[0;34m\u001b[0m\u001b[0m\n\u001b[0m\u001b[1;32m   1236\u001b[0m             \u001b[0;32mif\u001b[0m \u001b[0mself\u001b[0m\u001b[0;34m.\u001b[0m\u001b[0mretina\u001b[0m\u001b[0;34m:\u001b[0m\u001b[0;34m\u001b[0m\u001b[0;34m\u001b[0m\u001b[0m\n\u001b[1;32m   1237\u001b[0m                 \u001b[0mself\u001b[0m\u001b[0;34m.\u001b[0m\u001b[0m_retina_shape\u001b[0m\u001b[0;34m(\u001b[0m\u001b[0;34m)\u001b[0m\u001b[0;34m\u001b[0m\u001b[0;34m\u001b[0m\u001b[0m\n",
            "\u001b[0;32m/usr/local/lib/python3.7/dist-packages/IPython/core/display.py\u001b[0m in \u001b[0;36mreload\u001b[0;34m(self)\u001b[0m\n\u001b[1;32m    650\u001b[0m         \u001b[0;34m\"\"\"Reload the raw data from file or URL.\"\"\"\u001b[0m\u001b[0;34m\u001b[0m\u001b[0;34m\u001b[0m\u001b[0m\n\u001b[1;32m    651\u001b[0m         \u001b[0;32mif\u001b[0m \u001b[0mself\u001b[0m\u001b[0;34m.\u001b[0m\u001b[0mfilename\u001b[0m \u001b[0;32mis\u001b[0m \u001b[0;32mnot\u001b[0m \u001b[0;32mNone\u001b[0m\u001b[0;34m:\u001b[0m\u001b[0;34m\u001b[0m\u001b[0;34m\u001b[0m\u001b[0m\n\u001b[0;32m--> 652\u001b[0;31m             \u001b[0;32mwith\u001b[0m \u001b[0mopen\u001b[0m\u001b[0;34m(\u001b[0m\u001b[0mself\u001b[0m\u001b[0;34m.\u001b[0m\u001b[0mfilename\u001b[0m\u001b[0;34m,\u001b[0m \u001b[0mself\u001b[0m\u001b[0;34m.\u001b[0m\u001b[0m_read_flags\u001b[0m\u001b[0;34m)\u001b[0m \u001b[0;32mas\u001b[0m \u001b[0mf\u001b[0m\u001b[0;34m:\u001b[0m\u001b[0;34m\u001b[0m\u001b[0;34m\u001b[0m\u001b[0m\n\u001b[0m\u001b[1;32m    653\u001b[0m                 \u001b[0mself\u001b[0m\u001b[0;34m.\u001b[0m\u001b[0mdata\u001b[0m \u001b[0;34m=\u001b[0m \u001b[0mf\u001b[0m\u001b[0;34m.\u001b[0m\u001b[0mread\u001b[0m\u001b[0;34m(\u001b[0m\u001b[0;34m)\u001b[0m\u001b[0;34m\u001b[0m\u001b[0;34m\u001b[0m\u001b[0m\n\u001b[1;32m    654\u001b[0m         \u001b[0;32melif\u001b[0m \u001b[0mself\u001b[0m\u001b[0;34m.\u001b[0m\u001b[0murl\u001b[0m \u001b[0;32mis\u001b[0m \u001b[0;32mnot\u001b[0m \u001b[0;32mNone\u001b[0m\u001b[0;34m:\u001b[0m\u001b[0;34m\u001b[0m\u001b[0;34m\u001b[0m\u001b[0m\n",
            "\u001b[0;31mFileNotFoundError\u001b[0m: [Errno 2] No such file or directory: '/content/yolov5/runs/train/yolov5s_results/results.png'"
          ]
        }
      ],
      "source": [
        "from utils.plots import plot_results  # plot results.txt as results.png\n",
        "Image(filename='/content/yolov5/runs/train/yolov5s_results/results.png', width=1000)  # view results.png"
      ]
    },
    {
      "cell_type": "code",
      "source": [
        "Image(filename='/content/yolov5/runs/train/yolov5s_results/confusion_matrix.png', width=1000)  # view results.png"
      ],
      "metadata": {
        "id": "ZHFisdL4lxa3"
      },
      "execution_count": null,
      "outputs": []
    },
    {
      "cell_type": "markdown",
      "metadata": {
        "id": "SDgTXmyWYkXd"
      },
      "source": [
        "### Visualize Our Training Data with Labels"
      ]
    },
    {
      "cell_type": "code",
      "execution_count": null,
      "metadata": {
        "id": "WE-F27CEYqp1",
        "colab": {
          "base_uri": "https://localhost:8080/",
          "height": 235
        },
        "outputId": "98aff67c-3f75-40b4-e166-5c8c221f3164"
      },
      "outputs": [
        {
          "output_type": "stream",
          "name": "stdout",
          "text": [
            "GROUND TRUTH TRAINING DATA:\n"
          ]
        },
        {
          "output_type": "error",
          "ename": "NameError",
          "evalue": "ignored",
          "traceback": [
            "\u001b[0;31m---------------------------------------------------------------------------\u001b[0m",
            "\u001b[0;31mNameError\u001b[0m                                 Traceback (most recent call last)",
            "\u001b[0;32m<ipython-input-1-09a2805904f0>\u001b[0m in \u001b[0;36m<module>\u001b[0;34m\u001b[0m\n\u001b[1;32m      1\u001b[0m \u001b[0;31m# first, display our ground truth data\u001b[0m\u001b[0;34m\u001b[0m\u001b[0;34m\u001b[0m\u001b[0;34m\u001b[0m\u001b[0m\n\u001b[1;32m      2\u001b[0m \u001b[0mprint\u001b[0m\u001b[0;34m(\u001b[0m\u001b[0;34m\"GROUND TRUTH TRAINING DATA:\"\u001b[0m\u001b[0;34m)\u001b[0m\u001b[0;34m\u001b[0m\u001b[0;34m\u001b[0m\u001b[0m\n\u001b[0;32m----> 3\u001b[0;31m \u001b[0mImage\u001b[0m\u001b[0;34m(\u001b[0m\u001b[0mfilename\u001b[0m\u001b[0;34m=\u001b[0m\u001b[0;34m'/content/yolov5/runs/train/yolov5s_results/train_batch0.jpg'\u001b[0m\u001b[0;34m,\u001b[0m \u001b[0mwidth\u001b[0m\u001b[0;34m=\u001b[0m\u001b[0;36m900\u001b[0m\u001b[0;34m)\u001b[0m\u001b[0;34m\u001b[0m\u001b[0;34m\u001b[0m\u001b[0m\n\u001b[0m",
            "\u001b[0;31mNameError\u001b[0m: name 'Image' is not defined"
          ]
        }
      ],
      "source": [
        "# first, display our ground truth data\n",
        "print(\"GROUND TRUTH TRAINING DATA:\")\n",
        "Image(filename='/content/yolov5/runs/train/yolov5s_results/train_batch0.jpg', width=900)"
      ]
    },
    {
      "cell_type": "markdown",
      "metadata": {
        "id": "N3qM6T0W53gh"
      },
      "source": [
        "#Run Inference  With Trained Weights\n",
        "Run inference with a pretrained checkpoint on contents of `test/images` folder downloaded from Roboflow."
      ]
    },
    {
      "cell_type": "code",
      "execution_count": null,
      "metadata": {
        "id": "yIEwt5YLeQ7P"
      },
      "outputs": [],
      "source": [
        "# trained weights are saved by default in our weights folder\n",
        "%ls runs/"
      ]
    },
    {
      "cell_type": "code",
      "execution_count": null,
      "metadata": {
        "id": "4SyOWS80qR32"
      },
      "outputs": [],
      "source": [
        "%ls /content/yolov5/runs/train/yolov5s_results2/weights"
      ]
    },
    {
      "cell_type": "code",
      "execution_count": null,
      "metadata": {
        "colab": {
          "base_uri": "https://localhost:8080/"
        },
        "id": "9nmZZnWOgJ2S",
        "outputId": "9e88891f-9b31-461f-9a31-92b5a6ed270d"
      },
      "outputs": [
        {
          "name": "stdout",
          "output_type": "stream",
          "text": [
            "/content/yolov5\n",
            "\u001b[34m\u001b[1mdetect: \u001b[0mweights=['runs/train/yolov5s_results2/weights/best.pt'], source=/content/yolov5/Parcel-3/test/images, data=data/coco128.yaml, imgsz=[416, 416], conf_thres=0.4, iou_thres=0.45, max_det=1000, device=, view_img=False, save_txt=False, save_conf=False, save_crop=False, nosave=False, classes=None, agnostic_nms=False, augment=False, visualize=False, update=False, project=runs/detect, name=exp, exist_ok=False, line_thickness=3, hide_labels=False, hide_conf=False, half=False, dnn=False\n",
            "YOLOv5 🚀 v6.1-306-gfbe67e4 Python-3.7.14 torch-1.12.1+cu113 CUDA:0 (Tesla T4, 15110MiB)\n",
            "\n",
            "Fusing layers... \n",
            "custom_YOLOv5s summary: 232 layers, 7249215 parameters, 0 gradients, 16.7 GFLOPs\n",
            "image 1/94 /content/yolov5/Parcel-3/test/images/DB--101-_jpg.rf.fc82a11a297b6c2c14d837e997fd5a3f.jpg: 416x320 1 defect-parcel, Done. (0.013s)\n",
            "image 2/94 /content/yolov5/Parcel-3/test/images/DB--105-_jpg.rf.800cdaa84fb52c69ba48a54803f91cca.jpg: 320x416 1 defect-parcel, Done. (0.014s)\n",
            "image 3/94 /content/yolov5/Parcel-3/test/images/DB--107-_jpg.rf.957a305488749fde1b439a26f0228f07.jpg: 320x416 Done. (0.010s)\n",
            "image 4/94 /content/yolov5/Parcel-3/test/images/DB--112-_jpg.rf.9a9b12339f88b80450e7d7db45ef798c.jpg: 416x288 1 defect-parcel, Done. (0.015s)\n",
            "image 5/94 /content/yolov5/Parcel-3/test/images/DB--115-_jpg.rf.cf36e5a96a065be07e5abffc8c404e79.jpg: 416x288 1 defect-parcel, Done. (0.011s)\n",
            "image 6/94 /content/yolov5/Parcel-3/test/images/DB--123-_jpg.rf.c856ee727ba67d829cc1397ee35a76e2.jpg: 320x416 2 defect-parcels, Done. (0.012s)\n",
            "image 7/94 /content/yolov5/Parcel-3/test/images/DB--18-_jpg.rf.243cf8664a5b9104621596857c875479.jpg: 384x416 Done. (0.014s)\n",
            "image 8/94 /content/yolov5/Parcel-3/test/images/DB--21-_jpg.rf.e8c56c2ce580a7e4ee056f00beec822b.jpg: 416x224 Done. (0.013s)\n",
            "image 9/94 /content/yolov5/Parcel-3/test/images/DB--22-_jpg.rf.9c95e68d64ef0b8212c3d0b14558e2de.jpg: 384x416 Done. (0.010s)\n",
            "image 10/94 /content/yolov5/Parcel-3/test/images/DB--29-_jpg.rf.9d8eae2088c96cb801a2a3904746539c.jpg: 416x352 Done. (0.012s)\n",
            "image 11/94 /content/yolov5/Parcel-3/test/images/DB--31-_jpg.rf.1b19cb2a924458939c7f81d6c8deef96.jpg: 416x352 Done. (0.008s)\n",
            "image 12/94 /content/yolov5/Parcel-3/test/images/DB--35-_jpg.rf.2e21a538582370c7a10e447634c09f81.jpg: 416x384 1 defect-parcel, Done. (0.013s)\n",
            "image 13/94 /content/yolov5/Parcel-3/test/images/DB--40-_jpg.rf.bc47a42fa6cb54328eec2bdb34b82278.jpg: 384x416 1 defect-parcel, Done. (0.010s)\n",
            "image 14/94 /content/yolov5/Parcel-3/test/images/DB--41-_jpg.rf.5cca791772483043a4de137331791b30.jpg: 416x416 Done. (0.009s)\n",
            "image 15/94 /content/yolov5/Parcel-3/test/images/DB--47-_jpg.rf.4f1f2df7795110c3e0a1a2c902fe0da7.jpg: 320x416 Done. (0.009s)\n",
            "image 16/94 /content/yolov5/Parcel-3/test/images/DB--58-_jpg.rf.66a630eb41089aa81ccba677d72fea0c.jpg: 416x320 Done. (0.010s)\n",
            "image 17/94 /content/yolov5/Parcel-3/test/images/DB--61-_jpg.rf.3c28a245ff1113914ac46307ddf26f4d.jpg: 288x416 Done. (0.013s)\n",
            "image 18/94 /content/yolov5/Parcel-3/test/images/DB--63-_jpg.rf.f05495fde5b978537ce57aa19b1d8e4c.jpg: 320x416 1 defect-parcel, Done. (0.010s)\n",
            "image 19/94 /content/yolov5/Parcel-3/test/images/DB--67-_jpg.rf.feba4e79ab3d8a500120bd3d2401f6c1.jpg: 416x288 1 defect-parcel, Done. (0.012s)\n",
            "image 20/94 /content/yolov5/Parcel-3/test/images/DB--69-_jpg.rf.f04747d6358b51a00cb48a7afc7da948.jpg: 320x416 Done. (0.010s)\n",
            "image 21/94 /content/yolov5/Parcel-3/test/images/DB--70-_jpg.rf.1df1a8579224f4ecbeeadf72f7c750fe.jpg: 320x416 1 defect-parcel, Done. (0.009s)\n",
            "image 22/94 /content/yolov5/Parcel-3/test/images/DB--71-_jpg.rf.f4f1cbb970cf77b03996a93d8d716933.jpg: 320x416 1 defect-parcel, Done. (0.009s)\n",
            "image 23/94 /content/yolov5/Parcel-3/test/images/DB--74-_jpg.rf.3c2ab88d219d6ac55d8335c155f3bb66.jpg: 288x416 1 defect-parcel, Done. (0.010s)\n",
            "image 24/94 /content/yolov5/Parcel-3/test/images/DB--84-_jpg.rf.cdf1a3de9d6d88db5b1d7ce235b97895.jpg: 288x416 Done. (0.010s)\n",
            "image 25/94 /content/yolov5/Parcel-3/test/images/DB--9-_jpg.rf.de73bccdcd0f49a977214d623a1232de.jpg: 224x416 Done. (0.014s)\n",
            "image 26/94 /content/yolov5/Parcel-3/test/images/DB--91-_jpg.rf.7810131ab623f459d65d4f17da85cd8b.jpg: 320x416 Done. (0.012s)\n",
            "image 27/94 /content/yolov5/Parcel-3/test/images/DT--100-_jpg.rf.ce7a1dd646e57b65eed7278a53131816.jpg: 320x416 1 defect-parcel, Done. (0.011s)\n",
            "image 28/94 /content/yolov5/Parcel-3/test/images/DT--110-_jpg.rf.05b32187d02731eb91fd507a019a4ef3.jpg: 416x288 Done. (0.011s)\n",
            "image 29/94 /content/yolov5/Parcel-3/test/images/DT--115-_jpg.rf.0052fed63fb856cf331a1956001e2c7f.jpg: 320x416 3 defect-parcels, Done. (0.011s)\n",
            "image 30/94 /content/yolov5/Parcel-3/test/images/DT--116-_jpg.rf.b49fe8ca46155263b8ef1217b5110cd0.jpg: 320x416 1 defect-parcel, Done. (0.009s)\n",
            "image 31/94 /content/yolov5/Parcel-3/test/images/DT--119-_jpg.rf.bb59ccab0837c2c8bbca84b0ef44333d.jpg: 416x320 Done. (0.010s)\n",
            "image 32/94 /content/yolov5/Parcel-3/test/images/DT--130-_jpg.rf.66fd22f8be7f636ee76a662640819524.jpg: 288x416 1 defect-parcel, Done. (0.017s)\n",
            "image 33/94 /content/yolov5/Parcel-3/test/images/DT--132-_jpg.rf.28be645f0dc569293869a40b9b39d5ee.jpg: 320x416 Done. (0.010s)\n",
            "image 34/94 /content/yolov5/Parcel-3/test/images/DT--14-_jpg.rf.4e4ef87f138985bbc5b506f58ca4bd95.jpg: 320x416 2 defect-parcels, Done. (0.010s)\n",
            "image 35/94 /content/yolov5/Parcel-3/test/images/DT--142-_jpg.rf.368b760c6451f7d7b499f2dbd57ee5d4.jpg: 320x416 1 defect-parcel, Done. (0.009s)\n",
            "image 36/94 /content/yolov5/Parcel-3/test/images/DT--143-_jpg.rf.3903ef51a56c4b6148d5376410bd34d8.jpg: 288x416 2 defect-parcels, Done. (0.010s)\n",
            "image 37/94 /content/yolov5/Parcel-3/test/images/DT--145-_jpg.rf.3e562de0c4128ce9656899d88ac60c11.jpg: 416x320 Done. (0.015s)\n",
            "image 38/94 /content/yolov5/Parcel-3/test/images/DT--15-_jpg.rf.7831c2b0433b3cefaa7a2096c9bde5d0.jpg: 416x320 Done. (0.009s)\n",
            "image 39/94 /content/yolov5/Parcel-3/test/images/DT--160-_jpg.rf.024232e89067d1e7117d38ea73aaa1fa.jpg: 288x416 1 defect-parcel, Done. (0.010s)\n",
            "image 40/94 /content/yolov5/Parcel-3/test/images/DT--166-_jpg.rf.bd088da605ddebc2889ffb4df6e56e87.jpg: 320x416 2 defect-parcels, Done. (0.010s)\n",
            "image 41/94 /content/yolov5/Parcel-3/test/images/DT--171-_jpg.rf.92d0da3536cf737c32cac1f77a43bd8a.jpg: 416x320 Done. (0.011s)\n",
            "image 42/94 /content/yolov5/Parcel-3/test/images/DT--179-_jpg.rf.2083edd73159339f241b3da1cbd6d0bf.jpg: 288x416 1 defect-parcel, Done. (0.010s)\n",
            "image 43/94 /content/yolov5/Parcel-3/test/images/DT--190-_jpg.rf.917848ebbcd6644696defc10a3c1c99a.jpg: 320x416 1 defect-parcel, Done. (0.011s)\n",
            "image 44/94 /content/yolov5/Parcel-3/test/images/DT--192-_jpg.rf.9834ac6100b1ab881021c9ac28829e1b.jpg: 320x416 1 defect-parcel, Done. (0.010s)\n",
            "image 45/94 /content/yolov5/Parcel-3/test/images/DT--201-_jpg.rf.c721b4ca22e88c1285fbeef3beead2a7.jpg: 320x416 Done. (0.010s)\n",
            "image 46/94 /content/yolov5/Parcel-3/test/images/DT--202-_jpg.rf.8484b5b5fd027de7ba880893ed887c93.jpg: 320x416 1 defect-parcel, Done. (0.009s)\n",
            "image 47/94 /content/yolov5/Parcel-3/test/images/DT--205-_jpg.rf.d703ceaf8105d1271592001cbc69751d.jpg: 416x288 1 defect-parcel, Done. (0.011s)\n",
            "image 48/94 /content/yolov5/Parcel-3/test/images/DT--21-_jpg.rf.afc4fb9cc96b63fad77561e432184db2.jpg: 320x416 1 defect-parcel, Done. (0.011s)\n",
            "image 49/94 /content/yolov5/Parcel-3/test/images/DT--212-_jpg.rf.aa27eabe851607101bfc086ebad11db6.jpg: 320x416 Done. (0.010s)\n",
            "image 50/94 /content/yolov5/Parcel-3/test/images/DT--218-_jpg.rf.785f12b7f4585038cf2f36bcfd2eca24.jpg: 288x416 1 defect-parcel, Done. (0.013s)\n",
            "image 51/94 /content/yolov5/Parcel-3/test/images/DT--23-_jpg.rf.681dafdab37102627001c8414d9473ff.jpg: 320x416 1 defect-parcel, Done. (0.010s)\n",
            "image 52/94 /content/yolov5/Parcel-3/test/images/DT--25-_jpg.rf.14d2ceb256198e55b6500a0e830908ce.jpg: 288x416 Done. (0.011s)\n",
            "image 53/94 /content/yolov5/Parcel-3/test/images/DT--4-_jpg.rf.9a97004238a684d6223c228e5442810f.jpg: 320x416 Done. (0.012s)\n",
            "image 54/94 /content/yolov5/Parcel-3/test/images/DT--41-_jpg.rf.639239a033a66d80ede40988b85a222e.jpg: 320x416 1 defect-parcel, Done. (0.010s)\n",
            "image 55/94 /content/yolov5/Parcel-3/test/images/DT--44-_jpg.rf.5e45517b18743adbc6c1f9021d318e8b.jpg: 288x416 1 defect-parcel, Done. (0.010s)\n",
            "image 56/94 /content/yolov5/Parcel-3/test/images/DT--47-_jpg.rf.9e4cfbd6fbeaca9f0a06d08b870be23d.jpg: 320x416 2 defect-parcels, Done. (0.010s)\n",
            "image 57/94 /content/yolov5/Parcel-3/test/images/DT--58-_jpg.rf.1d8bf07f3a08421c5fa6e7ca24595d8a.jpg: 416x288 Done. (0.010s)\n",
            "image 58/94 /content/yolov5/Parcel-3/test/images/DT--59-_jpg.rf.90210363f3085b44b12edf46d23bfc87.jpg: 320x416 Done. (0.011s)\n",
            "image 59/94 /content/yolov5/Parcel-3/test/images/DT--68-_jpg.rf.800c5fb443158f26bd5fcd4c6a7c5af6.jpg: 320x416 Done. (0.009s)\n",
            "image 60/94 /content/yolov5/Parcel-3/test/images/DT--69-_jpg.rf.b3dc10076492aac366b96a772db4e115.jpg: 320x416 1 defect-parcel, Done. (0.009s)\n",
            "image 61/94 /content/yolov5/Parcel-3/test/images/DT--72-_jpg.rf.ed2eb0648c5a196fe7fa7c2b81aa3a9a.jpg: 288x416 Done. (0.010s)\n",
            "image 62/94 /content/yolov5/Parcel-3/test/images/DT--75-_jpg.rf.90f9d0c88adf2c300373a0c0ae3e954a.jpg: 320x416 2 defect-parcels, Done. (0.011s)\n",
            "image 63/94 /content/yolov5/Parcel-3/test/images/DT--76-_jpg.rf.91f2b81b347fba634b194151675fc44b.jpg: 320x416 1 defect-parcel, Done. (0.010s)\n",
            "image 64/94 /content/yolov5/Parcel-3/test/images/DT--83-_jpg.rf.3108b83b6a45e6c15c5a7aafd3bec463.jpg: 320x416 1 defect-parcel, Done. (0.009s)\n",
            "image 65/94 /content/yolov5/Parcel-3/test/images/DT--88-_jpg.rf.a22e735cd698a3328086b81aee056fb1.jpg: 320x416 2 defect-parcels, Done. (0.010s)\n",
            "image 66/94 /content/yolov5/Parcel-3/test/images/DT--89-_jpg.rf.a0f41394efd11894d56c6651c8aa187c.jpg: 320x416 1 defect-parcel, Done. (0.010s)\n",
            "image 67/94 /content/yolov5/Parcel-3/test/images/DT--95-_jpg.rf.5efa6f1b1cc60b7d508a2db479b3fccb.jpg: 288x416 1 defect-parcel, Done. (0.010s)\n",
            "image 68/94 /content/yolov5/Parcel-3/test/images/Good--1-_jpg.rf.4b77faa17cfe1f0753e3dfaa6c962bbd.jpg: 320x416 Done. (0.010s)\n",
            "image 69/94 /content/yolov5/Parcel-3/test/images/Good--106-_jpg.rf.ee6c5082e983b97e2355b06a9db61175.jpg: 256x416 1 defect-parcel, Done. (0.014s)\n",
            "image 70/94 /content/yolov5/Parcel-3/test/images/Good--109-_jpg.rf.212951df583eb5a027a3a5ccb81f72bf.jpg: 320x416 1 defect-parcel, Done. (0.011s)\n",
            "image 71/94 /content/yolov5/Parcel-3/test/images/Good--13-_jpg.rf.050d4d5bcaebe1b627591c50bc54ea5c.jpg: 320x416 Done. (0.010s)\n",
            "image 72/94 /content/yolov5/Parcel-3/test/images/Good--26-_jpg.rf.7569d8705f101e7d4281134b5409f8fc.jpg: 256x416 Done. (0.010s)\n",
            "image 73/94 /content/yolov5/Parcel-3/test/images/Good--31-_jpg.rf.b2ac2d178768690d425dcc89f4ce6e5a.jpg: 320x416 Done. (0.010s)\n",
            "image 74/94 /content/yolov5/Parcel-3/test/images/Good--57-_jpg.rf.ee5f544da91c9cdca60b834c6c7806c7.jpg: 320x416 Done. (0.009s)\n",
            "image 75/94 /content/yolov5/Parcel-3/test/images/Good--6-_jpg.rf.a9708ead6385688ec5876ea086b71076.jpg: 320x416 Done. (0.009s)\n",
            "image 76/94 /content/yolov5/Parcel-3/test/images/Good--65-_jpg.rf.ff75d1ec972b921cf58419daca32c965.jpg: 416x320 Done. (0.009s)\n",
            "image 77/94 /content/yolov5/Parcel-3/test/images/Good--82-_jpg.rf.7bbfc0744a8c4a7d209a066aee438193.jpg: 256x416 Done. (0.010s)\n",
            "image 78/94 /content/yolov5/Parcel-3/test/images/Good--83-_jpg.rf.1c6bd093225c3ac9a9c4bb2e481ed0f9.jpg: 256x416 Done. (0.010s)\n",
            "image 79/94 /content/yolov5/Parcel-3/test/images/Good--93-_jpg.rf.8c0587a3637a5061a428c5d3881f35bd.jpg: 256x416 1 defect-parcel, Done. (0.011s)\n",
            "image 80/94 /content/yolov5/Parcel-3/test/images/Good--96-_jpg.rf.baf3c7442fef7438c3bf597a73ab4b0f.jpg: 320x416 Done. (0.010s)\n",
            "image 81/94 /content/yolov5/Parcel-3/test/images/goodb--10-_jpg.rf.762e94c623c27db45aa97e4e077405f8.jpg: 320x416 Done. (0.009s)\n",
            "image 82/94 /content/yolov5/Parcel-3/test/images/goodb--103-_jpg.rf.fdcb5c72e2443679c615d3ed4fcc4326.jpg: 288x416 1 defect-parcel, Done. (0.010s)\n",
            "image 83/94 /content/yolov5/Parcel-3/test/images/goodb--105-_jpg.rf.7562b307a822285601f818974dee7c23.jpg: 320x416 2 defect-parcels, Done. (0.010s)\n",
            "image 84/94 /content/yolov5/Parcel-3/test/images/goodb--107-_jpg.rf.ac2ec7d4776add1c2416019df3cc2d0d.jpg: 416x320 Done. (0.009s)\n",
            "image 85/94 /content/yolov5/Parcel-3/test/images/goodb--116-_jpg.rf.9ff3f5cb48ad8c5ab887c4a0f1034339.jpg: 320x416 2 defect-parcels, Done. (0.010s)\n",
            "image 86/94 /content/yolov5/Parcel-3/test/images/goodb--123-_jpg.rf.1928a19250390181c0c1b529466c01b2.jpg: 256x416 1 defect-parcel, Done. (0.010s)\n",
            "image 87/94 /content/yolov5/Parcel-3/test/images/goodb--16-_jpg.rf.0e3760cfd71cec6639a01dc9777a47bc.jpg: 256x416 1 defect-parcel, Done. (0.008s)\n",
            "image 88/94 /content/yolov5/Parcel-3/test/images/goodb--27-_jpg.rf.026e96e369a36c7246eff21cfe2aa132.jpg: 320x416 Done. (0.013s)\n",
            "image 89/94 /content/yolov5/Parcel-3/test/images/goodb--31-_jpg.rf.94f1d71d4a737b0823b6f9331f075278.jpg: 416x320 1 defect-parcel, Done. (0.009s)\n",
            "image 90/94 /content/yolov5/Parcel-3/test/images/goodb--33-_jpg.rf.04364cb70eee6e98f613c9ad6cb99f26.jpg: 320x416 Done. (0.010s)\n",
            "image 91/94 /content/yolov5/Parcel-3/test/images/goodb--54-_jpg.rf.a5a85518375d440cdfbb0c25df631352.jpg: 320x416 Done. (0.009s)\n",
            "image 92/94 /content/yolov5/Parcel-3/test/images/goodb--74-_jpg.rf.df511d631b5441b34117e97623d3ff36.jpg: 416x320 Done. (0.010s)\n",
            "image 93/94 /content/yolov5/Parcel-3/test/images/goodb--80-_jpg.rf.88c29603c958dc7cb8a6d035e13f3c12.jpg: 416x320 Done. (0.009s)\n",
            "image 94/94 /content/yolov5/Parcel-3/test/images/goodb--92-_jpg.rf.b456f8a519edeca651e7d2d6c73e5c05.jpg: 256x416 Done. (0.009s)\n",
            "Speed: 0.3ms pre-process, 10.6ms inference, 0.7ms NMS per image at shape (1, 3, 416, 416)\n",
            "Results saved to \u001b[1mruns/detect/exp2\u001b[0m\n"
          ]
        }
      ],
      "source": [
        "# use the best weights!\n",
        "%cd /content/yolov5/\n",
        "!python detect.py --weights runs/train/yolov5s_results2/weights/best.pt --img 416 --conf 0.4 --source /content/yolov5/Parcel-3/test/images"
      ]
    },
    {
      "cell_type": "code",
      "execution_count": null,
      "metadata": {
        "colab": {
          "background_save": true
        },
        "id": "odKEqYtTgbRc"
      },
      "outputs": [],
      "source": [
        "#display inference on ALL test images\n",
        "#this looks much better with longer training above\n",
        "\n",
        "import glob\n",
        "from IPython.display import Image, display\n",
        "\n",
        "for imageName in glob.glob('/content/yolov5/runs/detect/exp2/*.jpg'): #assuming JPG\n",
        "    display(Image(filename=imageName))\n",
        "    print(\"\\n\")"
      ]
    },
    {
      "cell_type": "markdown",
      "metadata": {
        "id": "_uPq9mVgiBql"
      },
      "source": [
        "# Export Trained Weights for Future Inference\n"
      ]
    },
    {
      "cell_type": "code",
      "execution_count": null,
      "metadata": {
        "colab": {
          "base_uri": "https://localhost:8080/"
        },
        "id": "YH4CTzDRh00g",
        "outputId": "9b5b6d77-6917-4b41-bd02-048ec07f68ed"
      },
      "outputs": [
        {
          "output_type": "stream",
          "name": "stdout",
          "text": [
            "Mounted at /content/drive\n"
          ]
        }
      ],
      "source": [
        "from google.colab import drive\n",
        "drive.mount('/content/drive')"
      ]
    },
    {
      "cell_type": "code",
      "execution_count": null,
      "metadata": {
        "id": "1x_wg3VeiXMW"
      },
      "outputs": [],
      "source": [
        "%cp /content/yolov5/runs/train/yolov5s_results/weights/best.pt /content/drive/MyDrive/IP_Asg"
      ]
    },
    {
      "cell_type": "code",
      "source": [
        "!python detect.py --weights /content/drive/MyDrive/IP_Asg/best.pt --source /content/inf_img"
      ],
      "metadata": {
        "colab": {
          "base_uri": "https://localhost:8080/"
        },
        "id": "aitSuWFKYRHH",
        "outputId": "3c2aed7d-07ee-4b18-c44d-9419bf999387"
      },
      "execution_count": null,
      "outputs": [
        {
          "output_type": "stream",
          "name": "stdout",
          "text": [
            "\u001b[34m\u001b[1mdetect: \u001b[0mweights=['/content/drive/MyDrive/IP_Asg/best.pt'], source=/content/inf_img, data=data/coco128.yaml, imgsz=[640, 640], conf_thres=0.25, iou_thres=0.45, max_det=1000, device=, view_img=False, save_txt=False, save_conf=False, save_crop=False, nosave=False, classes=None, agnostic_nms=False, augment=False, visualize=False, update=False, project=runs/detect, name=exp, exist_ok=False, line_thickness=3, hide_labels=False, hide_conf=False, half=False, dnn=False\n",
            "YOLOv5 🚀 v6.1-306-gfbe67e4 Python-3.7.14 torch-1.12.1+cu113 CUDA:0 (Tesla T4, 15110MiB)\n",
            "\n",
            "Fusing layers... \n",
            "custom_YOLOv5s summary: 232 layers, 7249215 parameters, 0 gradients, 16.7 GFLOPs\n",
            "image 1/5 /content/inf_img/img1.jpeg: 640x480 Done. (0.014s)\n",
            "image 2/5 /content/inf_img/img2.jpeg: 640x480 Done. (0.011s)\n",
            "image 3/5 /content/inf_img/img3.jpeg: 480x640 1 defect-parcel, Done. (0.014s)\n",
            "image 4/5 /content/inf_img/img4.jpeg: 448x640 Done. (0.014s)\n",
            "image 5/5 /content/inf_img/img5.jpeg: 480x640 1 defect-parcel, Done. (0.011s)\n",
            "Speed: 0.5ms pre-process, 12.6ms inference, 0.7ms NMS per image at shape (1, 3, 640, 640)\n",
            "Results saved to \u001b[1mruns/detect/exp3\u001b[0m\n"
          ]
        }
      ]
    },
    {
      "cell_type": "code",
      "source": [
        "import glob\n",
        "from IPython.display import Image, display\n",
        "\n",
        "for imageName in glob.glob('/content/yolov5/runs/detect/exp2/*.jpeg'): #assuming JPG\n",
        "    display(Image(filename=imageName))\n",
        "    print(\"\\n\")"
      ],
      "metadata": {
        "id": "wIluPdZ7cBXl"
      },
      "execution_count": null,
      "outputs": []
    }
  ],
  "metadata": {
    "accelerator": "GPU",
    "colab": {
      "provenance": []
    },
    "kernelspec": {
      "display_name": "Python 3",
      "name": "python3"
    },
    "language_info": {
      "name": "python"
    }
  },
  "nbformat": 4,
  "nbformat_minor": 0
}